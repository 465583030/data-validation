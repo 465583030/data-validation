{
 "cells": [
  {
   "cell_type": "markdown",
   "metadata": {},
   "source": [
    "# TensorFlow Data Validation Example"
   ]
  },
  {
   "cell_type": "markdown",
   "metadata": {},
   "source": [
    "This notebook describes how to explore and validate Chicago Taxi dataset using TensorFlow Data Validation."
   ]
  },
  {
   "cell_type": "markdown",
   "metadata": {},
   "source": [
    "# Setup"
   ]
  },
  {
   "cell_type": "markdown",
   "metadata": {},
   "source": [
    "Import necessary packages and set up data paths."
   ]
  },
  {
   "cell_type": "code",
   "execution_count": null,
   "metadata": {},
   "outputs": [],
   "source": [
    "import tensorflow_data_validation as tfdv\n",
    "import os"
   ]
  },
  {
   "cell_type": "code",
   "execution_count": 2,
   "metadata": {},
   "outputs": [],
   "source": [
    "BASE_DIR = os.getcwd()\n",
    "DATA_DIR = os.path.join(BASE_DIR, 'data')\n",
    "TRAIN_DATA = os.path.join(DATA_DIR, 'train.csv')\n",
    "EVAL_DATA = os.path.join(DATA_DIR, 'eval.csv')"
   ]
  },
  {
   "cell_type": "markdown",
   "metadata": {},
   "source": [
    "# Compute descriptive data statistics"
   ]
  },
  {
   "cell_type": "markdown",
   "metadata": {},
   "source": [
    "TFDV can compute descriptive\n",
    "[statistics](https://github.com/tensorflow/metadata/tree/v0.6.0/tensorflow_metadata/proto/v0/statistics.proto)\n",
    "that provide a quick overview of the data in terms of the features that are\n",
    "present and the shapes of their value distributions.\n",
    "\n",
    "Internally, TFDV uses [Apache Beam](https://beam.apache.org)'s data-parallel\n",
    "processing framework to scale the computation of statistics over large datasets.\n",
    "For applications that wish to integrate deeper with TFDV (e.g., attach\n",
    "statistics generation at the end of a data-generation pipeline), the API also\n",
    "exposes a Beam PTransform for statistics generation."
   ]
  },
  {
   "cell_type": "code",
   "execution_count": null,
   "metadata": {},
   "outputs": [],
   "source": [
    "train_stats = tfdv.generate_statistics_from_csv(TRAIN_DATA)"
   ]
  },
  {
   "cell_type": "markdown",
   "metadata": {},
   "source": [
    "The statistics can be visualized using [Facets Overview](https://pair-code.github.io/facets/) tool which provide a succinct visualization of these statistics for easy browsing. TFDV provides a utility method that visualizes statistics using Facets."
   ]
  },
  {
   "cell_type": "code",
   "execution_count": 4,
   "metadata": {},
   "outputs": [
    {
     "data": {
      "text/html": [
       "<link rel=\"import\" href=\"https://raw.githubusercontent.com/PAIR-code/facets/master/facets-dist/facets-jupyter.html\" >\n",
       "        <facets-overview id=\"tfdv-facets-overview\"></facets-overview>\n",
       "        <script>\n",
       "          (function () {\n",
       "            facets_overview = document.getElementById(\"tfdv-facets-overview\");\n",
       "            facets_overview.protoInput = \"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\";\n",
       "            facets_overview.id = \"\";\n",
       "          }) ()\n",
       "        </script>"
      ],
      "text/plain": [
       "<IPython.core.display.HTML object>"
      ]
     },
     "metadata": {},
     "output_type": "display_data"
    }
   ],
   "source": [
    "tfdv.visualize_statistics(train_stats)"
   ]
  },
  {
   "cell_type": "markdown",
   "metadata": {},
   "source": [
    "# Infer a schema"
   ]
  },
  {
   "cell_type": "markdown",
   "metadata": {},
   "source": [
    "The\n",
    "[schema](https://github.com/tensorflow/metadata/tree/v0.6.0/tensorflow_metadata/proto/v0/schema.proto)\n",
    "describes the expected properties of the data. Some of these properties are:\n",
    "\n",
    "*   which features are expected to be present\n",
    "*   their type\n",
    "*   the number of values for a feature in each example\n",
    "*   the presence of each feature across all examples\n",
    "*   the expected domains of features.\n",
    "\n",
    "In short, the schema describes the expectations for \"correct\" data and can thus\n",
    "be used to detect errors in the data (described below). \n",
    "\n",
    "Since writing a schema can be a tedious task, especially for datasets with lots\n",
    "of features, TFDV provides a method to generate an initial version of the schema\n",
    "based on the descriptive statistics."
   ]
  },
  {
   "cell_type": "code",
   "execution_count": 5,
   "metadata": {},
   "outputs": [],
   "source": [
    "schema = tfdv.infer_schema(train_stats)"
   ]
  },
  {
   "cell_type": "markdown",
   "metadata": {},
   "source": [
    "In general, TFDV uses conservative heuristics to infer stable data properties\n",
    "from the statistics in order to avoid overfitting the schema to the specific\n",
    "dataset. It is strongly advised to **review the inferred schema and refine\n",
    "it as needed**, to capture any domain knowledge about the data that TFDV's\n",
    "heuristics might have missed."
   ]
  },
  {
   "cell_type": "code",
   "execution_count": 6,
   "metadata": {},
   "outputs": [
    {
     "data": {
      "text/html": [
       "<div>\n",
       "<style scoped>\n",
       "    .dataframe tbody tr th:only-of-type {\n",
       "        vertical-align: middle;\n",
       "    }\n",
       "\n",
       "    .dataframe tbody tr th {\n",
       "        vertical-align: top;\n",
       "    }\n",
       "\n",
       "    .dataframe thead th {\n",
       "        text-align: right;\n",
       "    }\n",
       "</style>\n",
       "<table border=\"1\" class=\"dataframe\">\n",
       "  <thead>\n",
       "    <tr style=\"text-align: right;\">\n",
       "      <th></th>\n",
       "      <th>Type</th>\n",
       "      <th>Presence</th>\n",
       "      <th>Valency</th>\n",
       "      <th>Domain</th>\n",
       "    </tr>\n",
       "    <tr>\n",
       "      <th>Feature name</th>\n",
       "      <th></th>\n",
       "      <th></th>\n",
       "      <th></th>\n",
       "      <th></th>\n",
       "    </tr>\n",
       "  </thead>\n",
       "  <tbody>\n",
       "    <tr>\n",
       "      <th>fare</th>\n",
       "      <td>Float</td>\n",
       "      <td>required</td>\n",
       "      <td>single</td>\n",
       "      <td></td>\n",
       "    </tr>\n",
       "    <tr>\n",
       "      <th>trip_start_hour</th>\n",
       "      <td>Int</td>\n",
       "      <td>required</td>\n",
       "      <td>single</td>\n",
       "      <td></td>\n",
       "    </tr>\n",
       "    <tr>\n",
       "      <th>dropoff_census_tract</th>\n",
       "      <td>Float</td>\n",
       "      <td>optional</td>\n",
       "      <td>single</td>\n",
       "      <td></td>\n",
       "    </tr>\n",
       "    <tr>\n",
       "      <th>company</th>\n",
       "      <td>String</td>\n",
       "      <td>optional</td>\n",
       "      <td>single</td>\n",
       "      <td>company</td>\n",
       "    </tr>\n",
       "    <tr>\n",
       "      <th>trip_start_timestamp</th>\n",
       "      <td>Int</td>\n",
       "      <td>required</td>\n",
       "      <td>single</td>\n",
       "      <td></td>\n",
       "    </tr>\n",
       "    <tr>\n",
       "      <th>pickup_longitude</th>\n",
       "      <td>Float</td>\n",
       "      <td>required</td>\n",
       "      <td>single</td>\n",
       "      <td></td>\n",
       "    </tr>\n",
       "    <tr>\n",
       "      <th>trip_start_month</th>\n",
       "      <td>Int</td>\n",
       "      <td>required</td>\n",
       "      <td>single</td>\n",
       "      <td></td>\n",
       "    </tr>\n",
       "    <tr>\n",
       "      <th>trip_miles</th>\n",
       "      <td>Float</td>\n",
       "      <td>required</td>\n",
       "      <td>single</td>\n",
       "      <td></td>\n",
       "    </tr>\n",
       "    <tr>\n",
       "      <th>dropoff_longitude</th>\n",
       "      <td>Float</td>\n",
       "      <td>optional</td>\n",
       "      <td>single</td>\n",
       "      <td></td>\n",
       "    </tr>\n",
       "    <tr>\n",
       "      <th>dropoff_community_area</th>\n",
       "      <td>Float</td>\n",
       "      <td>optional</td>\n",
       "      <td>single</td>\n",
       "      <td></td>\n",
       "    </tr>\n",
       "    <tr>\n",
       "      <th>pickup_community_area</th>\n",
       "      <td>Int</td>\n",
       "      <td>required</td>\n",
       "      <td>single</td>\n",
       "      <td></td>\n",
       "    </tr>\n",
       "    <tr>\n",
       "      <th>payment_type</th>\n",
       "      <td>String</td>\n",
       "      <td>required</td>\n",
       "      <td>single</td>\n",
       "      <td>payment_type</td>\n",
       "    </tr>\n",
       "    <tr>\n",
       "      <th>trip_seconds</th>\n",
       "      <td>Float</td>\n",
       "      <td>optional</td>\n",
       "      <td>single</td>\n",
       "      <td></td>\n",
       "    </tr>\n",
       "    <tr>\n",
       "      <th>trip_start_day</th>\n",
       "      <td>Int</td>\n",
       "      <td>required</td>\n",
       "      <td>single</td>\n",
       "      <td></td>\n",
       "    </tr>\n",
       "    <tr>\n",
       "      <th>tips</th>\n",
       "      <td>Float</td>\n",
       "      <td>required</td>\n",
       "      <td>single</td>\n",
       "      <td></td>\n",
       "    </tr>\n",
       "    <tr>\n",
       "      <th>pickup_latitude</th>\n",
       "      <td>Float</td>\n",
       "      <td>required</td>\n",
       "      <td>single</td>\n",
       "      <td></td>\n",
       "    </tr>\n",
       "    <tr>\n",
       "      <th>dropoff_latitude</th>\n",
       "      <td>Float</td>\n",
       "      <td>optional</td>\n",
       "      <td>single</td>\n",
       "      <td></td>\n",
       "    </tr>\n",
       "  </tbody>\n",
       "</table>\n",
       "</div>"
      ],
      "text/plain": [
       "                          Type  Presence Valency        Domain\n",
       "Feature name                                                  \n",
       "fare                     Float  required  single              \n",
       "trip_start_hour            Int  required  single              \n",
       "dropoff_census_tract     Float  optional  single              \n",
       "company                 String  optional  single       company\n",
       "trip_start_timestamp       Int  required  single              \n",
       "pickup_longitude         Float  required  single              \n",
       "trip_start_month           Int  required  single              \n",
       "trip_miles               Float  required  single              \n",
       "dropoff_longitude        Float  optional  single              \n",
       "dropoff_community_area   Float  optional  single              \n",
       "pickup_community_area      Int  required  single              \n",
       "payment_type            String  required  single  payment_type\n",
       "trip_seconds             Float  optional  single              \n",
       "trip_start_day             Int  required  single              \n",
       "tips                     Float  required  single              \n",
       "pickup_latitude          Float  required  single              \n",
       "dropoff_latitude         Float  optional  single              "
      ]
     },
     "metadata": {},
     "output_type": "display_data"
    },
    {
     "data": {
      "text/html": [
       "<div>\n",
       "<style scoped>\n",
       "    .dataframe tbody tr th:only-of-type {\n",
       "        vertical-align: middle;\n",
       "    }\n",
       "\n",
       "    .dataframe tbody tr th {\n",
       "        vertical-align: top;\n",
       "    }\n",
       "\n",
       "    .dataframe thead th {\n",
       "        text-align: right;\n",
       "    }\n",
       "</style>\n",
       "<table border=\"1\" class=\"dataframe\">\n",
       "  <thead>\n",
       "    <tr style=\"text-align: right;\">\n",
       "      <th></th>\n",
       "      <th>Values</th>\n",
       "    </tr>\n",
       "    <tr>\n",
       "      <th>Domain</th>\n",
       "      <th></th>\n",
       "    </tr>\n",
       "  </thead>\n",
       "  <tbody>\n",
       "    <tr>\n",
       "      <th>company</th>\n",
       "      <td>\"0118 - 42111 Godfrey S.Awir\", \"0694 - 59280 Chinesco Trans Inc\", \"1085 - 72312 N and W Cab Co\", \"2733 - 74600 Benny Jona\", \"2809 - 95474 C &amp; D Cab Co Inc.\", \"3011 - 66308 JBL Cab Inc.\", \"3152 - 97284 Crystal Abernathy\", \"3201 - C&amp;D Cab Co Inc\", \"3201 - CID Cab Co Inc\", \"3253 - 91138 Gaither Cab Co.\", \"3385 - 23210 Eman Cab\", \"3623 - 72222 Arrington Enterprises\", \"3897 - Ilie Malec\", \"4053 - Adwar H. Nikola\", \"4197 - 41842 Royal Star\", \"4615 - 83503 Tyrone Henderson\", \"4615 - Tyrone Henderson\", \"4623 - Jay Kim\", \"5006 - 39261 Salifu Bawa\", \"5006 - Salifu Bawa\", \"5074 - 54002 Ahzmi Inc\", \"5074 - Ahzmi Inc\", \"5129 - 87128\", \"5129 - 98755 Mengisti Taxi\", \"5129 - Mengisti Taxi\", \"5724 - KYVI Cab Inc\", \"585 - Valley Cab Co\", \"5864 - 73614 Thomas Owusu\", \"5864 - Thomas Owusu\", \"5874 - 73628 Sergey Cab Corp.\", \"5997 - 65283 AW Services Inc.\", \"5997 - AW Services Inc.\", \"6488 - 83287 Zuha Taxi\", \"6743 - Luhak Corp\", \"Blue Ribbon Taxi Association Inc.\", \"C &amp; D Cab Co Inc\", \"Chicago Elite Cab Corp.\", \"Chicago Elite Cab Corp. (Chicago Carriag\", \"Chicago Medallion Leasing INC\", \"Chicago Medallion Management\", \"Choice Taxi Association\", \"Dispatch Taxi Affiliation\", \"KOAM Taxi Association\", \"Northwest Management LLC\", \"Taxi Affiliation Services\", \"Top Cab Affiliation\"</td>\n",
       "    </tr>\n",
       "    <tr>\n",
       "      <th>payment_type</th>\n",
       "      <td>\"Cash\", \"Credit Card\", \"Dispute\", \"No Charge\", \"Pcard\", \"Unknown\"</td>\n",
       "    </tr>\n",
       "  </tbody>\n",
       "</table>\n",
       "</div>"
      ],
      "text/plain": [
       "                                                                                                                                                                                                                                                                                                                                                                                                                                                                                                                                                                                                                                                                                                                                                                                                                                                                                                                                                                                                                                                                                                                                                                                                                                                                                                                                  Values\n",
       "Domain                                                                                                                                                                                                                                                                                                                                                                                                                                                                                                                                                                                                                                                                                                                                                                                                                                                                                                                                                                                                                                                                                                                                                                                                                                                                                                                                  \n",
       "company       \"0118 - 42111 Godfrey S.Awir\", \"0694 - 59280 Chinesco Trans Inc\", \"1085 - 72312 N and W Cab Co\", \"2733 - 74600 Benny Jona\", \"2809 - 95474 C & D Cab Co Inc.\", \"3011 - 66308 JBL Cab Inc.\", \"3152 - 97284 Crystal Abernathy\", \"3201 - C&D Cab Co Inc\", \"3201 - CID Cab Co Inc\", \"3253 - 91138 Gaither Cab Co.\", \"3385 - 23210 Eman Cab\", \"3623 - 72222 Arrington Enterprises\", \"3897 - Ilie Malec\", \"4053 - Adwar H. Nikola\", \"4197 - 41842 Royal Star\", \"4615 - 83503 Tyrone Henderson\", \"4615 - Tyrone Henderson\", \"4623 - Jay Kim\", \"5006 - 39261 Salifu Bawa\", \"5006 - Salifu Bawa\", \"5074 - 54002 Ahzmi Inc\", \"5074 - Ahzmi Inc\", \"5129 - 87128\", \"5129 - 98755 Mengisti Taxi\", \"5129 - Mengisti Taxi\", \"5724 - KYVI Cab Inc\", \"585 - Valley Cab Co\", \"5864 - 73614 Thomas Owusu\", \"5864 - Thomas Owusu\", \"5874 - 73628 Sergey Cab Corp.\", \"5997 - 65283 AW Services Inc.\", \"5997 - AW Services Inc.\", \"6488 - 83287 Zuha Taxi\", \"6743 - Luhak Corp\", \"Blue Ribbon Taxi Association Inc.\", \"C & D Cab Co Inc\", \"Chicago Elite Cab Corp.\", \"Chicago Elite Cab Corp. (Chicago Carriag\", \"Chicago Medallion Leasing INC\", \"Chicago Medallion Management\", \"Choice Taxi Association\", \"Dispatch Taxi Affiliation\", \"KOAM Taxi Association\", \"Northwest Management LLC\", \"Taxi Affiliation Services\", \"Top Cab Affiliation\"\n",
       "payment_type  \"Cash\", \"Credit Card\", \"Dispute\", \"No Charge\", \"Pcard\", \"Unknown\"                                                                                                                                                                                                                                                                                                                                                                                                                                                                                                                                                                                                                                                                                                                                                                                                                                                                                                                                                                                                                                                                                                                                                                                                                                                         "
      ]
     },
     "metadata": {},
     "output_type": "display_data"
    }
   ],
   "source": [
    "tfdv.display_schema(schema)"
   ]
  },
  {
   "cell_type": "markdown",
   "metadata": {},
   "source": [
    "# Check evaluation data for errors"
   ]
  },
  {
   "cell_type": "markdown",
   "metadata": {},
   "source": [
    "Given a schema, it is possible to check whether a dataset conforms to the\n",
    "expectations set in the schema or whether there exist any data anomalies. TFDV\n",
    "performs this check by matching the statistics of the dataset against the schema\n",
    "and marking any discrepancies. "
   ]
  },
  {
   "cell_type": "code",
   "execution_count": 7,
   "metadata": {},
   "outputs": [],
   "source": [
    "eval_stats = tfdv.generate_statistics_from_csv(EVAL_DATA)"
   ]
  },
  {
   "cell_type": "code",
   "execution_count": 24,
   "metadata": {},
   "outputs": [],
   "source": [
    "anomalies = tfdv.validate_statistics(eval_stats, schema)"
   ]
  },
  {
   "cell_type": "code",
   "execution_count": 25,
   "metadata": {},
   "outputs": [
    {
     "data": {
      "text/html": [
       "<div>\n",
       "<style scoped>\n",
       "    .dataframe tbody tr th:only-of-type {\n",
       "        vertical-align: middle;\n",
       "    }\n",
       "\n",
       "    .dataframe tbody tr th {\n",
       "        vertical-align: top;\n",
       "    }\n",
       "\n",
       "    .dataframe thead th {\n",
       "        text-align: right;\n",
       "    }\n",
       "</style>\n",
       "<table border=\"1\" class=\"dataframe\">\n",
       "  <thead>\n",
       "    <tr style=\"text-align: right;\">\n",
       "      <th></th>\n",
       "      <th>Anomaly short description</th>\n",
       "      <th>Anomaly long description</th>\n",
       "    </tr>\n",
       "    <tr>\n",
       "      <th>Feature name</th>\n",
       "      <th></th>\n",
       "      <th></th>\n",
       "    </tr>\n",
       "  </thead>\n",
       "  <tbody>\n",
       "    <tr>\n",
       "      <th>company</th>\n",
       "      <td>Unexpected string values</td>\n",
       "      <td>Examples contain values missing from the schema: 2092 - 61288 Sbeih company (&lt;1%), 2192 - 73487 Zeymane Corp (&lt;1%), 2192 - Zeymane Corp (&lt;1%), 2823 - 73307 Seung Lee (&lt;1%), 3094 - 24059 G.L.B. Cab Co (&lt;1%), 3319 - CD Cab Co (&lt;1%), 3385 - Eman Cab (&lt;1%), 3897 - 57856 Ilie Malec (&lt;1%), 4053 - 40193 Adwar H. Nikola (&lt;1%), 4197 - Royal Star (&lt;1%), 585 - 88805 Valley Cab Co (&lt;1%), 5874 - Sergey Cab Corp. (&lt;1%), 6057 - 24657 Richard Addo (&lt;1%), 6574 - Babylon Express Inc. (&lt;1%), 6742 - 83735 Tasha ride inc (&lt;1%).</td>\n",
       "    </tr>\n",
       "    <tr>\n",
       "      <th>payment_type</th>\n",
       "      <td>Unexpected string values</td>\n",
       "      <td>Examples contain values missing from the schema: Prcard (&lt;1%).</td>\n",
       "    </tr>\n",
       "  </tbody>\n",
       "</table>\n",
       "</div>"
      ],
      "text/plain": [
       "             Anomaly short description  \\\n",
       "Feature name                             \n",
       "company       Unexpected string values   \n",
       "payment_type  Unexpected string values   \n",
       "\n",
       "                                                                                                                                                                                                                                                                                                                                                                                                                                                                                                                       Anomaly long description  \n",
       "Feature name                                                                                                                                                                                                                                                                                                                                                                                                                                                                                                                                     \n",
       "company       Examples contain values missing from the schema: 2092 - 61288 Sbeih company (<1%), 2192 - 73487 Zeymane Corp (<1%), 2192 - Zeymane Corp (<1%), 2823 - 73307 Seung Lee (<1%), 3094 - 24059 G.L.B. Cab Co (<1%), 3319 - CD Cab Co (<1%), 3385 - Eman Cab (<1%), 3897 - 57856 Ilie Malec (<1%), 4053 - 40193 Adwar H. Nikola (<1%), 4197 - Royal Star (<1%), 585 - 88805 Valley Cab Co (<1%), 5874 - Sergey Cab Corp. (<1%), 6057 - 24657 Richard Addo (<1%), 6574 - Babylon Express Inc. (<1%), 6742 - 83735 Tasha ride inc (<1%).   \n",
       "payment_type  Examples contain values missing from the schema: Prcard (<1%).                                                                                                                                                                                                                                                                                                                                                                                                                                                                     "
      ]
     },
     "metadata": {},
     "output_type": "display_data"
    }
   ],
   "source": [
    "tfdv.display_anomalies(anomalies)"
   ]
  },
  {
   "cell_type": "markdown",
   "metadata": {},
   "source": [
    "The anomalies indicate that out of domain values were found for features `company` and `payment_type` in the stats in < 1% of the examples. If this was expected, then the schema can be updated as follows."
   ]
  },
  {
   "cell_type": "code",
   "execution_count": 26,
   "metadata": {},
   "outputs": [],
   "source": [
    "# Relax the minimum fraction of values that must come from the domain for feature company.\n",
    "company = tfdv.get_feature(schema, 'company')\n",
    "company.distribution_constraints.min_domain_mass = 0.9\n",
    "\n",
    "# Add new value to the domain of feature payment_type.\n",
    "payment_type_domain = tfdv.get_domain(schema, 'payment_type')\n",
    "payment_type_domain.value.append('Prcard')"
   ]
  },
  {
   "cell_type": "code",
   "execution_count": 27,
   "metadata": {},
   "outputs": [],
   "source": [
    "updated_anomalies = tfdv.validate_statistics(eval_stats, schema)"
   ]
  },
  {
   "cell_type": "code",
   "execution_count": 28,
   "metadata": {},
   "outputs": [
    {
     "data": {
      "text/html": [
       "<h4 style=\"color:green;\">No anomalies found.</h4>"
      ],
      "text/plain": [
       "<IPython.core.display.HTML object>"
      ]
     },
     "metadata": {},
     "output_type": "display_data"
    }
   ],
   "source": [
    "tfdv.display_anomalies(updated_anomalies)"
   ]
  },
  {
   "cell_type": "markdown",
   "metadata": {},
   "source": [
    "If an anomaly truly indicates a data error, then the underlying data should be fixed."
   ]
  }
 ],
 "metadata": {
  "kernelspec": {
   "display_name": "Python 2",
   "language": "python",
   "name": "python2"
  },
  "language_info": {
   "codemirror_mode": {
    "name": "ipython",
    "version": 2
   },
   "file_extension": ".py",
   "mimetype": "text/x-python",
   "name": "python",
   "nbconvert_exporter": "python",
   "pygments_lexer": "ipython2",
   "version": "2.7.14"
  }
 },
 "nbformat": 4,
 "nbformat_minor": 2
}
